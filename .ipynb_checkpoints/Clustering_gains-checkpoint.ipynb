{
 "cells": [
  {
   "cell_type": "markdown",
   "id": "6d12c87a-e5b0-4bd2-a01a-bd78430c9f1c",
   "metadata": {},
   "source": [
    "# Clusteirng Analysis"
   ]
  },
  {
   "cell_type": "code",
   "execution_count": 11,
   "id": "ed693515-3e5a-4bec-a75d-65abfff4c37f",
   "metadata": {},
   "outputs": [],
   "source": [
    "# Imports\n",
    "import pandas as pd\n",
    "from sklearn.preprocessing import StandardScaler\n",
    "from sklearn.cluster import KMeans\n",
    "import matplotlib.pyplot as plt\n",
    "from sklearn.metrics import silhouette_score"
   ]
  },
  {
   "cell_type": "code",
   "execution_count": 2,
   "id": "2a181160-593d-4cc8-9438-d7be87198e66",
   "metadata": {},
   "outputs": [
    {
     "data": {
      "text/html": [
       "<div>\n",
       "<style scoped>\n",
       "    .dataframe tbody tr th:only-of-type {\n",
       "        vertical-align: middle;\n",
       "    }\n",
       "\n",
       "    .dataframe tbody tr th {\n",
       "        vertical-align: top;\n",
       "    }\n",
       "\n",
       "    .dataframe thead th {\n",
       "        text-align: right;\n",
       "    }\n",
       "</style>\n",
       "<table border=\"1\" class=\"dataframe\">\n",
       "  <thead>\n",
       "    <tr style=\"text-align: right;\">\n",
       "      <th></th>\n",
       "      <th>Curso</th>\n",
       "      <th>Nivel</th>\n",
       "      <th>Codigo</th>\n",
       "      <th>Genero</th>\n",
       "      <th>Adaptacion</th>\n",
       "      <th>Puntuacion_profesor</th>\n",
       "      <th>Puntuacion_apoyo</th>\n",
       "      <th>Material</th>\n",
       "      <th>Puntuacion_curso</th>\n",
       "      <th>Edad</th>\n",
       "      <th>Decision</th>\n",
       "      <th>Gusto_g</th>\n",
       "      <th>Interes_profesional_g</th>\n",
       "      <th>Autoeficacia_g</th>\n",
       "      <th>Utilidad_g</th>\n",
       "    </tr>\n",
       "  </thead>\n",
       "  <tbody>\n",
       "    <tr>\n",
       "      <th>0</th>\n",
       "      <td>VIDEOJUEGOS 2D</td>\n",
       "      <td>0</td>\n",
       "      <td>103000</td>\n",
       "      <td>0</td>\n",
       "      <td>1</td>\n",
       "      <td>9</td>\n",
       "      <td>9</td>\n",
       "      <td>3</td>\n",
       "      <td>10</td>\n",
       "      <td>13</td>\n",
       "      <td>2</td>\n",
       "      <td>0.000000</td>\n",
       "      <td>0.000000</td>\n",
       "      <td>-0.50</td>\n",
       "      <td>-1.0</td>\n",
       "    </tr>\n",
       "    <tr>\n",
       "      <th>1</th>\n",
       "      <td>CIBERSEGURIDAD</td>\n",
       "      <td>1</td>\n",
       "      <td>104324</td>\n",
       "      <td>0</td>\n",
       "      <td>3</td>\n",
       "      <td>8</td>\n",
       "      <td>10</td>\n",
       "      <td>3</td>\n",
       "      <td>9</td>\n",
       "      <td>17</td>\n",
       "      <td>2</td>\n",
       "      <td>0.333333</td>\n",
       "      <td>0.000000</td>\n",
       "      <td>0.75</td>\n",
       "      <td>0.4</td>\n",
       "    </tr>\n",
       "    <tr>\n",
       "      <th>2</th>\n",
       "      <td>CIBERSEGURIDAD</td>\n",
       "      <td>1</td>\n",
       "      <td>106789</td>\n",
       "      <td>0</td>\n",
       "      <td>2</td>\n",
       "      <td>10</td>\n",
       "      <td>10</td>\n",
       "      <td>2</td>\n",
       "      <td>10</td>\n",
       "      <td>16</td>\n",
       "      <td>0</td>\n",
       "      <td>0.500000</td>\n",
       "      <td>0.500000</td>\n",
       "      <td>-0.75</td>\n",
       "      <td>0.4</td>\n",
       "    </tr>\n",
       "    <tr>\n",
       "      <th>3</th>\n",
       "      <td>BIOINGENIERIA</td>\n",
       "      <td>1</td>\n",
       "      <td>106843</td>\n",
       "      <td>1</td>\n",
       "      <td>3</td>\n",
       "      <td>10</td>\n",
       "      <td>10</td>\n",
       "      <td>3</td>\n",
       "      <td>10</td>\n",
       "      <td>15</td>\n",
       "      <td>2</td>\n",
       "      <td>0.000000</td>\n",
       "      <td>0.333333</td>\n",
       "      <td>-0.25</td>\n",
       "      <td>1.0</td>\n",
       "    </tr>\n",
       "    <tr>\n",
       "      <th>4</th>\n",
       "      <td>BIOINGENIERIA</td>\n",
       "      <td>0</td>\n",
       "      <td>108000</td>\n",
       "      <td>1</td>\n",
       "      <td>2</td>\n",
       "      <td>10</td>\n",
       "      <td>10</td>\n",
       "      <td>3</td>\n",
       "      <td>9</td>\n",
       "      <td>11</td>\n",
       "      <td>2</td>\n",
       "      <td>-0.166667</td>\n",
       "      <td>-0.166667</td>\n",
       "      <td>0.00</td>\n",
       "      <td>-0.2</td>\n",
       "    </tr>\n",
       "  </tbody>\n",
       "</table>\n",
       "</div>"
      ],
      "text/plain": [
       "            Curso  Nivel  Codigo  Genero  Adaptacion  Puntuacion_profesor  \\\n",
       "0  VIDEOJUEGOS 2D      0  103000       0           1                    9   \n",
       "1  CIBERSEGURIDAD      1  104324       0           3                    8   \n",
       "2  CIBERSEGURIDAD      1  106789       0           2                   10   \n",
       "3   BIOINGENIERIA      1  106843       1           3                   10   \n",
       "4   BIOINGENIERIA      0  108000       1           2                   10   \n",
       "\n",
       "   Puntuacion_apoyo  Material  Puntuacion_curso  Edad  Decision   Gusto_g  \\\n",
       "0                 9         3                10    13         2  0.000000   \n",
       "1                10         3                 9    17         2  0.333333   \n",
       "2                10         2                10    16         0  0.500000   \n",
       "3                10         3                10    15         2  0.000000   \n",
       "4                10         3                 9    11         2 -0.166667   \n",
       "\n",
       "   Interes_profesional_g  Autoeficacia_g  Utilidad_g  \n",
       "0               0.000000           -0.50        -1.0  \n",
       "1               0.000000            0.75         0.4  \n",
       "2               0.500000           -0.75         0.4  \n",
       "3               0.333333           -0.25         1.0  \n",
       "4              -0.166667            0.00        -0.2  "
      ]
     },
     "execution_count": 2,
     "metadata": {},
     "output_type": "execute_result"
    }
   ],
   "source": [
    "link = \"data/2021_Alumnos_curso.csv\"\n",
    "data = pd.read_csv(link)\n",
    "data.head()"
   ]
  },
  {
   "cell_type": "markdown",
   "id": "5bc9ef7b-7ab7-4371-8af8-69fc7644bc62",
   "metadata": {},
   "source": [
    "## Keep only useful variables"
   ]
  },
  {
   "cell_type": "code",
   "execution_count": 3,
   "id": "45817f12-bb7b-47bd-b3d4-5f27c2cfa03b",
   "metadata": {},
   "outputs": [
    {
     "data": {
      "text/html": [
       "<div>\n",
       "<style scoped>\n",
       "    .dataframe tbody tr th:only-of-type {\n",
       "        vertical-align: middle;\n",
       "    }\n",
       "\n",
       "    .dataframe tbody tr th {\n",
       "        vertical-align: top;\n",
       "    }\n",
       "\n",
       "    .dataframe thead th {\n",
       "        text-align: right;\n",
       "    }\n",
       "</style>\n",
       "<table border=\"1\" class=\"dataframe\">\n",
       "  <thead>\n",
       "    <tr style=\"text-align: right;\">\n",
       "      <th></th>\n",
       "      <th>Nivel</th>\n",
       "      <th>Genero</th>\n",
       "      <th>Adaptacion</th>\n",
       "      <th>Puntuacion_profesor</th>\n",
       "      <th>Puntuacion_apoyo</th>\n",
       "      <th>Material</th>\n",
       "      <th>Puntuacion_curso</th>\n",
       "      <th>Edad</th>\n",
       "      <th>Decision</th>\n",
       "      <th>Gusto_g</th>\n",
       "      <th>Interes_profesional_g</th>\n",
       "      <th>Autoeficacia_g</th>\n",
       "      <th>Utilidad_g</th>\n",
       "    </tr>\n",
       "  </thead>\n",
       "  <tbody>\n",
       "    <tr>\n",
       "      <th>0</th>\n",
       "      <td>0</td>\n",
       "      <td>0</td>\n",
       "      <td>1</td>\n",
       "      <td>9</td>\n",
       "      <td>9</td>\n",
       "      <td>3</td>\n",
       "      <td>10</td>\n",
       "      <td>13</td>\n",
       "      <td>2</td>\n",
       "      <td>0.000000</td>\n",
       "      <td>0.000000</td>\n",
       "      <td>-0.50</td>\n",
       "      <td>-1.0</td>\n",
       "    </tr>\n",
       "    <tr>\n",
       "      <th>1</th>\n",
       "      <td>1</td>\n",
       "      <td>0</td>\n",
       "      <td>3</td>\n",
       "      <td>8</td>\n",
       "      <td>10</td>\n",
       "      <td>3</td>\n",
       "      <td>9</td>\n",
       "      <td>17</td>\n",
       "      <td>2</td>\n",
       "      <td>0.333333</td>\n",
       "      <td>0.000000</td>\n",
       "      <td>0.75</td>\n",
       "      <td>0.4</td>\n",
       "    </tr>\n",
       "    <tr>\n",
       "      <th>2</th>\n",
       "      <td>1</td>\n",
       "      <td>0</td>\n",
       "      <td>2</td>\n",
       "      <td>10</td>\n",
       "      <td>10</td>\n",
       "      <td>2</td>\n",
       "      <td>10</td>\n",
       "      <td>16</td>\n",
       "      <td>0</td>\n",
       "      <td>0.500000</td>\n",
       "      <td>0.500000</td>\n",
       "      <td>-0.75</td>\n",
       "      <td>0.4</td>\n",
       "    </tr>\n",
       "    <tr>\n",
       "      <th>3</th>\n",
       "      <td>1</td>\n",
       "      <td>1</td>\n",
       "      <td>3</td>\n",
       "      <td>10</td>\n",
       "      <td>10</td>\n",
       "      <td>3</td>\n",
       "      <td>10</td>\n",
       "      <td>15</td>\n",
       "      <td>2</td>\n",
       "      <td>0.000000</td>\n",
       "      <td>0.333333</td>\n",
       "      <td>-0.25</td>\n",
       "      <td>1.0</td>\n",
       "    </tr>\n",
       "    <tr>\n",
       "      <th>4</th>\n",
       "      <td>0</td>\n",
       "      <td>1</td>\n",
       "      <td>2</td>\n",
       "      <td>10</td>\n",
       "      <td>10</td>\n",
       "      <td>3</td>\n",
       "      <td>9</td>\n",
       "      <td>11</td>\n",
       "      <td>2</td>\n",
       "      <td>-0.166667</td>\n",
       "      <td>-0.166667</td>\n",
       "      <td>0.00</td>\n",
       "      <td>-0.2</td>\n",
       "    </tr>\n",
       "  </tbody>\n",
       "</table>\n",
       "</div>"
      ],
      "text/plain": [
       "   Nivel  Genero  Adaptacion  Puntuacion_profesor  Puntuacion_apoyo  Material  \\\n",
       "0      0       0           1                    9                 9         3   \n",
       "1      1       0           3                    8                10         3   \n",
       "2      1       0           2                   10                10         2   \n",
       "3      1       1           3                   10                10         3   \n",
       "4      0       1           2                   10                10         3   \n",
       "\n",
       "   Puntuacion_curso  Edad  Decision   Gusto_g  Interes_profesional_g  \\\n",
       "0                10    13         2  0.000000               0.000000   \n",
       "1                 9    17         2  0.333333               0.000000   \n",
       "2                10    16         0  0.500000               0.500000   \n",
       "3                10    15         2  0.000000               0.333333   \n",
       "4                 9    11         2 -0.166667              -0.166667   \n",
       "\n",
       "   Autoeficacia_g  Utilidad_g  \n",
       "0           -0.50        -1.0  \n",
       "1            0.75         0.4  \n",
       "2           -0.75         0.4  \n",
       "3           -0.25         1.0  \n",
       "4            0.00        -0.2  "
      ]
     },
     "execution_count": 3,
     "metadata": {},
     "output_type": "execute_result"
    }
   ],
   "source": [
    "data = data[[\"Nivel\", \"Genero\", \"Adaptacion\", \"Puntuacion_profesor\", \"Puntuacion_apoyo\", \"Material\", \"Puntuacion_curso\", \"Edad\", \"Decision\", \"Gusto_g\", \"Interes_profesional_g\", \"Autoeficacia_g\", \"Utilidad_g\"]]\n",
    "data.head()"
   ]
  },
  {
   "cell_type": "markdown",
   "id": "5d96b68f-28ae-4a50-bd5a-4755bdd71c40",
   "metadata": {},
   "source": [
    "## Transform Data"
   ]
  },
  {
   "cell_type": "markdown",
   "id": "72207462-63ae-45e4-8333-c007b0fb2690",
   "metadata": {},
   "source": [
    "Mean = 0, std = 1"
   ]
  },
  {
   "cell_type": "code",
   "execution_count": 4,
   "id": "40297b20-4c49-4238-873a-ce23b6a6d217",
   "metadata": {},
   "outputs": [],
   "source": [
    "scaler = StandardScaler()\n",
    "scaled_features = scaler.fit_transform(data)"
   ]
  },
  {
   "cell_type": "markdown",
   "id": "ef4b5523-57d6-4b70-b198-de55f364965a",
   "metadata": {},
   "source": [
    "## K-Means Clustering"
   ]
  },
  {
   "cell_type": "markdown",
   "id": "3db01c0f-206d-4d3d-800d-71258e85cb31",
   "metadata": {},
   "source": [
    "Parameters:\n",
    "\n",
    "- **init** controls the initialization technique. The standard version of the k-means algorithm is implemented by setting init to \"random\". Setting this to \"k-means++\" employs an advanced trick to speed up convergence.\n",
    "\n",
    "- **n_clusters** sets k for the clustering step. This is the most important parameter for k-means.\n",
    "\n",
    "- **n_init** sets the number of initializations to perform. This is important because two runs can converge on different cluster assignments. The default behavior for the scikit-learn algorithm is to perform ten k-means runs and return the results of the one with the lowest SSE.\n",
    "\n",
    "- **max_iter** sets the number of maximum iterations for each initialization of the k-means algorithm."
   ]
  },
  {
   "cell_type": "markdown",
   "id": "a1c3a94e-cf6d-4838-83d4-feb193b5faf3",
   "metadata": {},
   "source": [
    "### Optimal number of clusters"
   ]
  },
  {
   "cell_type": "code",
   "execution_count": 14,
   "id": "ee3c127a-1660-4c68-b212-2f2ffb7fa7fb",
   "metadata": {},
   "outputs": [],
   "source": [
    "kmeans_kwargs = {\n",
    "    \"init\": \"random\",\n",
    "    \"n_init\": 10,\n",
    "    \"max_iter\": 300,\n",
    "    \"random_state\": 42,\n",
    "}\n",
    "\n",
    "# A list holds the SSE values for each k\n",
    "sse = []\n",
    "silhouette_coefficients = []\n",
    "for k in range(2, 11):\n",
    "    kmeans = KMeans(n_clusters=k, **kmeans_kwargs)\n",
    "    kmeans.fit(scaled_features)\n",
    "    sse.append(kmeans.inertia_)\n",
    "    score = silhouette_score(scaled_features, kmeans.labels_)\n",
    "    silhouette_coefficients.append(score)"
   ]
  },
  {
   "cell_type": "code",
   "execution_count": 22,
   "id": "153418f1-79df-433d-892a-e5ba1da1d4fc",
   "metadata": {},
   "outputs": [
    {
     "data": {
      "image/png": "[encoded data removed]",
      "text/plain": [
       "<Figure size 432x288 with 2 Axes>"
      ]
     },
     "metadata": {
      "needs_background": "light"
     },
     "output_type": "display_data"
    }
   ],
   "source": [
    "# plt.plot(range(2, 11), sse, silhouette_coefficients)\n",
    "# plt.xticks(range(2, 11))\n",
    "# plt.xlabel(\"Number of Clusters\")\n",
    "# plt.ylabel(\"SSE\")\n",
    "# plt.show()\n",
    "x = range(2,11)\n",
    "\n",
    "fig, ax1 = plt.subplots()\n",
    "\n",
    "color = 'tab:red'\n",
    "ax1.set_xlabel('Number of Clusters')\n",
    "ax1.set_ylabel('SSE', color=color)\n",
    "ax1.plot(x, sse, color=color)\n",
    "ax1.tick_params(axis='y', labelcolor=color)\n",
    "\n",
    "ax2 = ax1.twinx()  # instantiate a second axes that shares the same x-axis\n",
    "\n",
    "color = 'tab:blue'\n",
    "ax2.set_ylabel('Silhouette Coefficients', color=color)  # we already handled the x-label with ax1\n",
    "ax2.plot(x, silhouette_coefficients, color=color)\n",
    "ax2.tick_params(axis='y', labelcolor=color)\n",
    "\n",
    "fig.tight_layout()  # otherwise the right y-label is slightly clipped\n",
    "plt.show()"
   ]
  },
  {
   "cell_type": "markdown",
   "id": "51035a75-d593-476a-9147-d2453538119e",
   "metadata": {},
   "source": [
    "The optimal number of clusters is 3"
   ]
  },
  {
   "cell_type": "markdown",
   "id": "f52d634e-06a8-453c-8af0-4e802c590abd",
   "metadata": {},
   "source": [
    "### Results"
   ]
  },
  {
   "cell_type": "code",
   "execution_count": 24,
   "id": "969c18d1-287e-4f8a-8225-63127e69b4c8",
   "metadata": {},
   "outputs": [],
   "source": [
    "In [7]: kmeans = KMeans(\n",
    "    init=\"random\",\n",
    "    n_clusters=3,\n",
    "    n_init=10,\n",
    "    max_iter=300,\n",
    "    random_state=42)"
   ]
  },
  {
   "cell_type": "code",
   "execution_count": 25,
   "id": "ca4eb7d3-5d61-48b7-9f70-3b546accbf36",
   "metadata": {},
   "outputs": [
    {
     "data": {
      "text/plain": [
       "KMeans(n_clusters=3)"
      ]
     },
     "execution_count": 25,
     "metadata": {},
     "output_type": "execute_result"
    }
   ],
   "source": [
    "kmeans = KMeans(n_clusters=3)\n",
    "kmeans.fit(scaled_features)"
   ]
  },
  {
   "cell_type": "code",
   "execution_count": null,
   "id": "86468a15-312e-4a0e-b9b0-9a58b84a82cf",
   "metadata": {},
   "outputs": [],
   "source": []
  }
 ],
 "metadata": {
  "kernelspec": {
   "display_name": "Python 3",
   "language": "python",
   "name": "python3"
  },
  "language_info": {
   "codemirror_mode": {
    "name": "ipython",
    "version": 3
   },
   "file_extension": ".py",
   "mimetype": "text/x-python",
   "name": "python",
   "nbconvert_exporter": "python",
   "pygments_lexer": "ipython3",
   "version": "3.8.8"
  }
 },
 "nbformat": 4,
 "nbformat_minor": 5
}
